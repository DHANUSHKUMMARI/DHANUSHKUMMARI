{
  "nbformat": 4,
  "nbformat_minor": 0,
  "metadata": {
    "colab": {
      "provenance": [],
      "authorship_tag": "ABX9TyOqK4NgCVqqKLTgdlJM3qaJ",
      "include_colab_link": true
    },
    "kernelspec": {
      "name": "python3",
      "display_name": "Python 3"
    },
    "language_info": {
      "name": "python"
    }
  },
  "cells": [
    {
      "cell_type": "markdown",
      "metadata": {
        "id": "view-in-github",
        "colab_type": "text"
      },
      "source": [
        "<a href=\"https://colab.research.google.com/github/DHANUSHKUMMARI/DHANUSHKUMMARI/blob/main/Browsing_History_Analysis%20Of%20a%20User.ipynb\" target=\"_parent\"><img src=\"https://colab.research.google.com/assets/colab-badge.svg\" alt=\"Open In Colab\"/></a>"
      ]
    },
    {
      "cell_type": "code",
      "execution_count": 33,
      "metadata": {
        "id": "WWbxWZI_fPAa"
      },
      "outputs": [],
      "source": [
        "import numpy as np"
      ]
    },
    {
      "cell_type": "code",
      "source": [
        "import pandas as pd"
      ],
      "metadata": {
        "id": "B7qGFDSTfciv"
      },
      "execution_count": 35,
      "outputs": []
    },
    {
      "cell_type": "code",
      "source": [
        "# creating dataframe for user browsing history\n",
        "df=pd.read_csv('/content/py_demo_client_extension_30_20250221075805 (1).csv',skiprows=5)\n",
        "df.head()\n"
      ],
      "metadata": {
        "colab": {
          "base_uri": "https://localhost:8080/",
          "height": 417
        },
        "id": "7DBYEVXbfjJs",
        "outputId": "17d97d77-3e6e-4edf-947e-39e079e6366f"
      },
      "execution_count": 36,
      "outputs": [
        {
          "output_type": "execute_result",
          "data": {
            "text/plain": [
              "            OrgId ParticipantId            DeviceId  \\\n",
              "0  py_demo_client          demo  2nwjevbvxzm7ehb254   \n",
              "1  py_demo_client          demo  2nwjevbvxzm7ehb254   \n",
              "2  py_demo_client          demo  2nwjevbvxzm7ehb254   \n",
              "3  py_demo_client          demo  2nwjevbvxzm7ehb254   \n",
              "4  py_demo_client          demo  2nwjevbvxzm7ehb254   \n",
              "\n",
              "                                                 url  \\\n",
              "0  chrome-extension://hkmmnfimlpcphpgnmgdecpdpaef...   \n",
              "1  https://chromewebstore.google.com/detail/snaps...   \n",
              "2  https://py-insights.com/account/demo/product?s...   \n",
              "3  https://py-insights.com/account/demo/product?s...   \n",
              "4       https://py-insights.com/account/demo/product   \n",
              "\n",
              "               eventtimeutc transition                        title  visitId  \\\n",
              "0  2025-02-21T07:58:02.688Z       link                          NaN   166328   \n",
              "1  2025-02-21T07:57:51.308Z       link  Snapshot - Chrome Web Store   166327   \n",
              "2  2025-02-21T07:57:40.972Z       link        PY Insights | Product   166319   \n",
              "3  2025-02-21T07:57:40.988Z       link        PY Insights | Product   166321   \n",
              "4  2025-02-21T07:57:38.017Z       link        PY Insights | Product   166318   \n",
              "\n",
              "   referringVisitId                  eventtime  \n",
              "0                 0  2025-02-20T23:58:02-08:00  \n",
              "1            166326  2025-02-20T23:57:51-08:00  \n",
              "2                 0  2025-02-20T23:57:40-08:00  \n",
              "3                 0  2025-02-20T23:57:40-08:00  \n",
              "4                 0  2025-02-20T23:57:38-08:00  "
            ],
            "text/html": [
              "\n",
              "  <div id=\"df-7f581a3d-7249-4799-adfe-ae6ec344272e\" class=\"colab-df-container\">\n",
              "    <div>\n",
              "<style scoped>\n",
              "    .dataframe tbody tr th:only-of-type {\n",
              "        vertical-align: middle;\n",
              "    }\n",
              "\n",
              "    .dataframe tbody tr th {\n",
              "        vertical-align: top;\n",
              "    }\n",
              "\n",
              "    .dataframe thead th {\n",
              "        text-align: right;\n",
              "    }\n",
              "</style>\n",
              "<table border=\"1\" class=\"dataframe\">\n",
              "  <thead>\n",
              "    <tr style=\"text-align: right;\">\n",
              "      <th></th>\n",
              "      <th>OrgId</th>\n",
              "      <th>ParticipantId</th>\n",
              "      <th>DeviceId</th>\n",
              "      <th>url</th>\n",
              "      <th>eventtimeutc</th>\n",
              "      <th>transition</th>\n",
              "      <th>title</th>\n",
              "      <th>visitId</th>\n",
              "      <th>referringVisitId</th>\n",
              "      <th>eventtime</th>\n",
              "    </tr>\n",
              "  </thead>\n",
              "  <tbody>\n",
              "    <tr>\n",
              "      <th>0</th>\n",
              "      <td>py_demo_client</td>\n",
              "      <td>demo</td>\n",
              "      <td>2nwjevbvxzm7ehb254</td>\n",
              "      <td>chrome-extension://hkmmnfimlpcphpgnmgdecpdpaef...</td>\n",
              "      <td>2025-02-21T07:58:02.688Z</td>\n",
              "      <td>link</td>\n",
              "      <td>NaN</td>\n",
              "      <td>166328</td>\n",
              "      <td>0</td>\n",
              "      <td>2025-02-20T23:58:02-08:00</td>\n",
              "    </tr>\n",
              "    <tr>\n",
              "      <th>1</th>\n",
              "      <td>py_demo_client</td>\n",
              "      <td>demo</td>\n",
              "      <td>2nwjevbvxzm7ehb254</td>\n",
              "      <td>https://chromewebstore.google.com/detail/snaps...</td>\n",
              "      <td>2025-02-21T07:57:51.308Z</td>\n",
              "      <td>link</td>\n",
              "      <td>Snapshot - Chrome Web Store</td>\n",
              "      <td>166327</td>\n",
              "      <td>166326</td>\n",
              "      <td>2025-02-20T23:57:51-08:00</td>\n",
              "    </tr>\n",
              "    <tr>\n",
              "      <th>2</th>\n",
              "      <td>py_demo_client</td>\n",
              "      <td>demo</td>\n",
              "      <td>2nwjevbvxzm7ehb254</td>\n",
              "      <td>https://py-insights.com/account/demo/product?s...</td>\n",
              "      <td>2025-02-21T07:57:40.972Z</td>\n",
              "      <td>link</td>\n",
              "      <td>PY Insights | Product</td>\n",
              "      <td>166319</td>\n",
              "      <td>0</td>\n",
              "      <td>2025-02-20T23:57:40-08:00</td>\n",
              "    </tr>\n",
              "    <tr>\n",
              "      <th>3</th>\n",
              "      <td>py_demo_client</td>\n",
              "      <td>demo</td>\n",
              "      <td>2nwjevbvxzm7ehb254</td>\n",
              "      <td>https://py-insights.com/account/demo/product?s...</td>\n",
              "      <td>2025-02-21T07:57:40.988Z</td>\n",
              "      <td>link</td>\n",
              "      <td>PY Insights | Product</td>\n",
              "      <td>166321</td>\n",
              "      <td>0</td>\n",
              "      <td>2025-02-20T23:57:40-08:00</td>\n",
              "    </tr>\n",
              "    <tr>\n",
              "      <th>4</th>\n",
              "      <td>py_demo_client</td>\n",
              "      <td>demo</td>\n",
              "      <td>2nwjevbvxzm7ehb254</td>\n",
              "      <td>https://py-insights.com/account/demo/product</td>\n",
              "      <td>2025-02-21T07:57:38.017Z</td>\n",
              "      <td>link</td>\n",
              "      <td>PY Insights | Product</td>\n",
              "      <td>166318</td>\n",
              "      <td>0</td>\n",
              "      <td>2025-02-20T23:57:38-08:00</td>\n",
              "    </tr>\n",
              "  </tbody>\n",
              "</table>\n",
              "</div>\n",
              "    <div class=\"colab-df-buttons\">\n",
              "\n",
              "  <div class=\"colab-df-container\">\n",
              "    <button class=\"colab-df-convert\" onclick=\"convertToInteractive('df-7f581a3d-7249-4799-adfe-ae6ec344272e')\"\n",
              "            title=\"Convert this dataframe to an interactive table.\"\n",
              "            style=\"display:none;\">\n",
              "\n",
              "  <svg xmlns=\"http://www.w3.org/2000/svg\" height=\"24px\" viewBox=\"0 -960 960 960\">\n",
              "    <path d=\"M120-120v-720h720v720H120Zm60-500h600v-160H180v160Zm220 220h160v-160H400v160Zm0 220h160v-160H400v160ZM180-400h160v-160H180v160Zm440 0h160v-160H620v160ZM180-180h160v-160H180v160Zm440 0h160v-160H620v160Z\"/>\n",
              "  </svg>\n",
              "    </button>\n",
              "\n",
              "  <style>\n",
              "    .colab-df-container {\n",
              "      display:flex;\n",
              "      gap: 12px;\n",
              "    }\n",
              "\n",
              "    .colab-df-convert {\n",
              "      background-color: #E8F0FE;\n",
              "      border: none;\n",
              "      border-radius: 50%;\n",
              "      cursor: pointer;\n",
              "      display: none;\n",
              "      fill: #1967D2;\n",
              "      height: 32px;\n",
              "      padding: 0 0 0 0;\n",
              "      width: 32px;\n",
              "    }\n",
              "\n",
              "    .colab-df-convert:hover {\n",
              "      background-color: #E2EBFA;\n",
              "      box-shadow: 0px 1px 2px rgba(60, 64, 67, 0.3), 0px 1px 3px 1px rgba(60, 64, 67, 0.15);\n",
              "      fill: #174EA6;\n",
              "    }\n",
              "\n",
              "    .colab-df-buttons div {\n",
              "      margin-bottom: 4px;\n",
              "    }\n",
              "\n",
              "    [theme=dark] .colab-df-convert {\n",
              "      background-color: #3B4455;\n",
              "      fill: #D2E3FC;\n",
              "    }\n",
              "\n",
              "    [theme=dark] .colab-df-convert:hover {\n",
              "      background-color: #434B5C;\n",
              "      box-shadow: 0px 1px 3px 1px rgba(0, 0, 0, 0.15);\n",
              "      filter: drop-shadow(0px 1px 2px rgba(0, 0, 0, 0.3));\n",
              "      fill: #FFFFFF;\n",
              "    }\n",
              "  </style>\n",
              "\n",
              "    <script>\n",
              "      const buttonEl =\n",
              "        document.querySelector('#df-7f581a3d-7249-4799-adfe-ae6ec344272e button.colab-df-convert');\n",
              "      buttonEl.style.display =\n",
              "        google.colab.kernel.accessAllowed ? 'block' : 'none';\n",
              "\n",
              "      async function convertToInteractive(key) {\n",
              "        const element = document.querySelector('#df-7f581a3d-7249-4799-adfe-ae6ec344272e');\n",
              "        const dataTable =\n",
              "          await google.colab.kernel.invokeFunction('convertToInteractive',\n",
              "                                                    [key], {});\n",
              "        if (!dataTable) return;\n",
              "\n",
              "        const docLinkHtml = 'Like what you see? Visit the ' +\n",
              "          '<a target=\"_blank\" href=https://colab.research.google.com/notebooks/data_table.ipynb>data table notebook</a>'\n",
              "          + ' to learn more about interactive tables.';\n",
              "        element.innerHTML = '';\n",
              "        dataTable['output_type'] = 'display_data';\n",
              "        await google.colab.output.renderOutput(dataTable, element);\n",
              "        const docLink = document.createElement('div');\n",
              "        docLink.innerHTML = docLinkHtml;\n",
              "        element.appendChild(docLink);\n",
              "      }\n",
              "    </script>\n",
              "  </div>\n",
              "\n",
              "\n",
              "<div id=\"df-fd4afc8a-db1b-40d3-99cf-a34b342c63a8\">\n",
              "  <button class=\"colab-df-quickchart\" onclick=\"quickchart('df-fd4afc8a-db1b-40d3-99cf-a34b342c63a8')\"\n",
              "            title=\"Suggest charts\"\n",
              "            style=\"display:none;\">\n",
              "\n",
              "<svg xmlns=\"http://www.w3.org/2000/svg\" height=\"24px\"viewBox=\"0 0 24 24\"\n",
              "     width=\"24px\">\n",
              "    <g>\n",
              "        <path d=\"M19 3H5c-1.1 0-2 .9-2 2v14c0 1.1.9 2 2 2h14c1.1 0 2-.9 2-2V5c0-1.1-.9-2-2-2zM9 17H7v-7h2v7zm4 0h-2V7h2v10zm4 0h-2v-4h2v4z\"/>\n",
              "    </g>\n",
              "</svg>\n",
              "  </button>\n",
              "\n",
              "<style>\n",
              "  .colab-df-quickchart {\n",
              "      --bg-color: #E8F0FE;\n",
              "      --fill-color: #1967D2;\n",
              "      --hover-bg-color: #E2EBFA;\n",
              "      --hover-fill-color: #174EA6;\n",
              "      --disabled-fill-color: #AAA;\n",
              "      --disabled-bg-color: #DDD;\n",
              "  }\n",
              "\n",
              "  [theme=dark] .colab-df-quickchart {\n",
              "      --bg-color: #3B4455;\n",
              "      --fill-color: #D2E3FC;\n",
              "      --hover-bg-color: #434B5C;\n",
              "      --hover-fill-color: #FFFFFF;\n",
              "      --disabled-bg-color: #3B4455;\n",
              "      --disabled-fill-color: #666;\n",
              "  }\n",
              "\n",
              "  .colab-df-quickchart {\n",
              "    background-color: var(--bg-color);\n",
              "    border: none;\n",
              "    border-radius: 50%;\n",
              "    cursor: pointer;\n",
              "    display: none;\n",
              "    fill: var(--fill-color);\n",
              "    height: 32px;\n",
              "    padding: 0;\n",
              "    width: 32px;\n",
              "  }\n",
              "\n",
              "  .colab-df-quickchart:hover {\n",
              "    background-color: var(--hover-bg-color);\n",
              "    box-shadow: 0 1px 2px rgba(60, 64, 67, 0.3), 0 1px 3px 1px rgba(60, 64, 67, 0.15);\n",
              "    fill: var(--button-hover-fill-color);\n",
              "  }\n",
              "\n",
              "  .colab-df-quickchart-complete:disabled,\n",
              "  .colab-df-quickchart-complete:disabled:hover {\n",
              "    background-color: var(--disabled-bg-color);\n",
              "    fill: var(--disabled-fill-color);\n",
              "    box-shadow: none;\n",
              "  }\n",
              "\n",
              "  .colab-df-spinner {\n",
              "    border: 2px solid var(--fill-color);\n",
              "    border-color: transparent;\n",
              "    border-bottom-color: var(--fill-color);\n",
              "    animation:\n",
              "      spin 1s steps(1) infinite;\n",
              "  }\n",
              "\n",
              "  @keyframes spin {\n",
              "    0% {\n",
              "      border-color: transparent;\n",
              "      border-bottom-color: var(--fill-color);\n",
              "      border-left-color: var(--fill-color);\n",
              "    }\n",
              "    20% {\n",
              "      border-color: transparent;\n",
              "      border-left-color: var(--fill-color);\n",
              "      border-top-color: var(--fill-color);\n",
              "    }\n",
              "    30% {\n",
              "      border-color: transparent;\n",
              "      border-left-color: var(--fill-color);\n",
              "      border-top-color: var(--fill-color);\n",
              "      border-right-color: var(--fill-color);\n",
              "    }\n",
              "    40% {\n",
              "      border-color: transparent;\n",
              "      border-right-color: var(--fill-color);\n",
              "      border-top-color: var(--fill-color);\n",
              "    }\n",
              "    60% {\n",
              "      border-color: transparent;\n",
              "      border-right-color: var(--fill-color);\n",
              "    }\n",
              "    80% {\n",
              "      border-color: transparent;\n",
              "      border-right-color: var(--fill-color);\n",
              "      border-bottom-color: var(--fill-color);\n",
              "    }\n",
              "    90% {\n",
              "      border-color: transparent;\n",
              "      border-bottom-color: var(--fill-color);\n",
              "    }\n",
              "  }\n",
              "</style>\n",
              "\n",
              "  <script>\n",
              "    async function quickchart(key) {\n",
              "      const quickchartButtonEl =\n",
              "        document.querySelector('#' + key + ' button');\n",
              "      quickchartButtonEl.disabled = true;  // To prevent multiple clicks.\n",
              "      quickchartButtonEl.classList.add('colab-df-spinner');\n",
              "      try {\n",
              "        const charts = await google.colab.kernel.invokeFunction(\n",
              "            'suggestCharts', [key], {});\n",
              "      } catch (error) {\n",
              "        console.error('Error during call to suggestCharts:', error);\n",
              "      }\n",
              "      quickchartButtonEl.classList.remove('colab-df-spinner');\n",
              "      quickchartButtonEl.classList.add('colab-df-quickchart-complete');\n",
              "    }\n",
              "    (() => {\n",
              "      let quickchartButtonEl =\n",
              "        document.querySelector('#df-fd4afc8a-db1b-40d3-99cf-a34b342c63a8 button');\n",
              "      quickchartButtonEl.style.display =\n",
              "        google.colab.kernel.accessAllowed ? 'block' : 'none';\n",
              "    })();\n",
              "  </script>\n",
              "</div>\n",
              "\n",
              "    </div>\n",
              "  </div>\n"
            ],
            "application/vnd.google.colaboratory.intrinsic+json": {
              "type": "dataframe",
              "variable_name": "df",
              "summary": "{\n  \"name\": \"df\",\n  \"rows\": 5104,\n  \"fields\": [\n    {\n      \"column\": \"OrgId\",\n      \"properties\": {\n        \"dtype\": \"category\",\n        \"num_unique_values\": 1,\n        \"samples\": [\n          \"py_demo_client\"\n        ],\n        \"semantic_type\": \"\",\n        \"description\": \"\"\n      }\n    },\n    {\n      \"column\": \"ParticipantId\",\n      \"properties\": {\n        \"dtype\": \"category\",\n        \"num_unique_values\": 1,\n        \"samples\": [\n          \"demo\"\n        ],\n        \"semantic_type\": \"\",\n        \"description\": \"\"\n      }\n    },\n    {\n      \"column\": \"DeviceId\",\n      \"properties\": {\n        \"dtype\": \"category\",\n        \"num_unique_values\": 1,\n        \"samples\": [\n          \"2nwjevbvxzm7ehb254\"\n        ],\n        \"semantic_type\": \"\",\n        \"description\": \"\"\n      }\n    },\n    {\n      \"column\": \"url\",\n      \"properties\": {\n        \"dtype\": \"string\",\n        \"num_unique_values\": 2779,\n        \"samples\": [\n          \"https://www.taskrabbit.com/dashboard/active?app_source_page=confirm_and_book&autoinvite=false&returning=false&app_target=tr_web\"\n        ],\n        \"semantic_type\": \"\",\n        \"description\": \"\"\n      }\n    },\n    {\n      \"column\": \"eventtimeutc\",\n      \"properties\": {\n        \"dtype\": \"object\",\n        \"num_unique_values\": 5055,\n        \"samples\": [\n          \"2025-01-29T05:14:29.526Z\"\n        ],\n        \"semantic_type\": \"\",\n        \"description\": \"\"\n      }\n    },\n    {\n      \"column\": \"transition\",\n      \"properties\": {\n        \"dtype\": \"category\",\n        \"num_unique_values\": 8,\n        \"samples\": [\n          \"typed\"\n        ],\n        \"semantic_type\": \"\",\n        \"description\": \"\"\n      }\n    },\n    {\n      \"column\": \"title\",\n      \"properties\": {\n        \"dtype\": \"category\",\n        \"num_unique_values\": 1382,\n        \"samples\": [\n          \"The YouLift Bed: Affordable &#44;  Mechanism-Free Murphy Bed\"\n        ],\n        \"semantic_type\": \"\",\n        \"description\": \"\"\n      }\n    },\n    {\n      \"column\": \"visitId\",\n      \"properties\": {\n        \"dtype\": \"number\",\n        \"std\": 1742,\n        \"min\": 160209,\n        \"max\": 166328,\n        \"num_unique_values\": 5104,\n        \"samples\": [\n          161281\n        ],\n        \"semantic_type\": \"\",\n        \"description\": \"\"\n      }\n    },\n    {\n      \"column\": \"referringVisitId\",\n      \"properties\": {\n        \"dtype\": \"number\",\n        \"std\": 80736,\n        \"min\": 0,\n        \"max\": 166326,\n        \"num_unique_values\": 1587,\n        \"samples\": [\n          164781\n        ],\n        \"semantic_type\": \"\",\n        \"description\": \"\"\n      }\n    },\n    {\n      \"column\": \"eventtime\",\n      \"properties\": {\n        \"dtype\": \"object\",\n        \"num_unique_values\": 4253,\n        \"samples\": [\n          \"2025-02-20T11:14:10-08:00\"\n        ],\n        \"semantic_type\": \"\",\n        \"description\": \"\"\n      }\n    }\n  ]\n}"
            }
          },
          "metadata": {},
          "execution_count": 36
        }
      ]
    },
    {
      "cell_type": "code",
      "source": [
        "df.columns"
      ],
      "metadata": {
        "colab": {
          "base_uri": "https://localhost:8080/",
          "height": 0
        },
        "id": "O-QuJvQHf3u5",
        "outputId": "d07c5b85-124a-4bf4-a9b0-a8906edbdf76"
      },
      "execution_count": 37,
      "outputs": [
        {
          "output_type": "execute_result",
          "data": {
            "text/plain": [
              "Index(['OrgId', 'ParticipantId', 'DeviceId', 'url', 'eventtimeutc',\n",
              "       'transition', 'title', 'visitId', 'referringVisitId', 'eventtime'],\n",
              "      dtype='object')"
            ]
          },
          "metadata": {},
          "execution_count": 37
        }
      ]
    },
    {
      "cell_type": "code",
      "source": [
        "df.shape"
      ],
      "metadata": {
        "colab": {
          "base_uri": "https://localhost:8080/",
          "height": 0
        },
        "id": "Gr7MvEHcvDWS",
        "outputId": "40f1be55-aee3-4574-8cfa-efb5fba086e9"
      },
      "execution_count": 38,
      "outputs": [
        {
          "output_type": "execute_result",
          "data": {
            "text/plain": [
              "(5104, 10)"
            ]
          },
          "metadata": {},
          "execution_count": 38
        }
      ]
    },
    {
      "cell_type": "code",
      "source": [
        "df.info()"
      ],
      "metadata": {
        "colab": {
          "base_uri": "https://localhost:8080/",
          "height": 0
        },
        "id": "SalquZcihFGn",
        "outputId": "a6d101c3-d23f-4936-b85e-65c6e67349a2"
      },
      "execution_count": 39,
      "outputs": [
        {
          "output_type": "stream",
          "name": "stdout",
          "text": [
            "<class 'pandas.core.frame.DataFrame'>\n",
            "RangeIndex: 5104 entries, 0 to 5103\n",
            "Data columns (total 10 columns):\n",
            " #   Column            Non-Null Count  Dtype \n",
            "---  ------            --------------  ----- \n",
            " 0   OrgId             5104 non-null   object\n",
            " 1   ParticipantId     5104 non-null   object\n",
            " 2   DeviceId          5104 non-null   object\n",
            " 3   url               5104 non-null   object\n",
            " 4   eventtimeutc      5104 non-null   object\n",
            " 5   transition        5104 non-null   object\n",
            " 6   title             5051 non-null   object\n",
            " 7   visitId           5104 non-null   int64 \n",
            " 8   referringVisitId  5104 non-null   int64 \n",
            " 9   eventtime         5104 non-null   object\n",
            "dtypes: int64(2), object(8)\n",
            "memory usage: 398.9+ KB\n"
          ]
        }
      ]
    },
    {
      "cell_type": "markdown",
      "source": [
        "## **Data Preprocessing:**##\n",
        "\n",
        "\n",
        "---\n",
        "\n",
        "\n",
        "---\n",
        "\n",
        "1.Convert eventtimeutc to datetime format for time-based analysis.\n",
        "\n",
        "\n",
        "---\n",
        "\n",
        "\n",
        "2.Extract additional features: date, hour, and day_of_week to analyze trends.\n",
        "\n",
        "\n",
        "---\n",
        "\n",
        "\n",
        "3.Handle missing values in title by replacing them with \"Unknown\".\n",
        "\n",
        "\n",
        "---\n",
        "\n",
        "\n",
        "4.Extract domain names from URLs for domain-based analysis\n",
        "\n",
        "\n"
      ],
      "metadata": {
        "id": "IaclqihErtF3"
      }
    },
    {
      "cell_type": "code",
      "source": [
        "# Convert eventtimeutc to datetime format\n",
        "df['eventtimeutc'] = pd.to_datetime(df['eventtimeutc'])\n",
        "\n",
        "# Extract useful time-based features\n",
        "df['date'] = df['eventtimeutc'].dt.date\n",
        "df['hour'] = df['eventtimeutc'].dt.hour\n",
        "df['day_of_week'] = df['eventtimeutc'].dt.day_name()\n",
        "\n",
        "# Handle missing values in title\n",
        "df['title'].fillna(\"Unknown\", inplace=True)\n",
        "\n",
        "# Extract domain from URL\n",
        "df['domain'] = df['url'].str.extract(r'https?://(?:www\\.)?([^/]+)')\n",
        "\n",
        "# Checking processed data\n",
        "df.head()\n"
      ],
      "metadata": {
        "colab": {
          "base_uri": "https://localhost:8080/",
          "height": 538
        },
        "id": "Hyz5Zp9GqSf4",
        "outputId": "5833dcd2-22ab-484f-8db6-b1a719f6e054"
      },
      "execution_count": 40,
      "outputs": [
        {
          "output_type": "stream",
          "name": "stderr",
          "text": [
            "<ipython-input-40-59f8af8c6dd1>:10: FutureWarning: A value is trying to be set on a copy of a DataFrame or Series through chained assignment using an inplace method.\n",
            "The behavior will change in pandas 3.0. This inplace method will never work because the intermediate object on which we are setting values always behaves as a copy.\n",
            "\n",
            "For example, when doing 'df[col].method(value, inplace=True)', try using 'df.method({col: value}, inplace=True)' or df[col] = df[col].method(value) instead, to perform the operation inplace on the original object.\n",
            "\n",
            "\n",
            "  df['title'].fillna(\"Unknown\", inplace=True)\n"
          ]
        },
        {
          "output_type": "execute_result",
          "data": {
            "text/plain": [
              "            OrgId ParticipantId            DeviceId  \\\n",
              "0  py_demo_client          demo  2nwjevbvxzm7ehb254   \n",
              "1  py_demo_client          demo  2nwjevbvxzm7ehb254   \n",
              "2  py_demo_client          demo  2nwjevbvxzm7ehb254   \n",
              "3  py_demo_client          demo  2nwjevbvxzm7ehb254   \n",
              "4  py_demo_client          demo  2nwjevbvxzm7ehb254   \n",
              "\n",
              "                                                 url  \\\n",
              "0  chrome-extension://hkmmnfimlpcphpgnmgdecpdpaef...   \n",
              "1  https://chromewebstore.google.com/detail/snaps...   \n",
              "2  https://py-insights.com/account/demo/product?s...   \n",
              "3  https://py-insights.com/account/demo/product?s...   \n",
              "4       https://py-insights.com/account/demo/product   \n",
              "\n",
              "                      eventtimeutc transition                        title  \\\n",
              "0 2025-02-21 07:58:02.688000+00:00       link                      Unknown   \n",
              "1 2025-02-21 07:57:51.308000+00:00       link  Snapshot - Chrome Web Store   \n",
              "2 2025-02-21 07:57:40.972000+00:00       link        PY Insights | Product   \n",
              "3 2025-02-21 07:57:40.988000+00:00       link        PY Insights | Product   \n",
              "4 2025-02-21 07:57:38.017000+00:00       link        PY Insights | Product   \n",
              "\n",
              "   visitId  referringVisitId                  eventtime        date  hour  \\\n",
              "0   166328                 0  2025-02-20T23:58:02-08:00  2025-02-21     7   \n",
              "1   166327            166326  2025-02-20T23:57:51-08:00  2025-02-21     7   \n",
              "2   166319                 0  2025-02-20T23:57:40-08:00  2025-02-21     7   \n",
              "3   166321                 0  2025-02-20T23:57:40-08:00  2025-02-21     7   \n",
              "4   166318                 0  2025-02-20T23:57:38-08:00  2025-02-21     7   \n",
              "\n",
              "  day_of_week                     domain  \n",
              "0      Friday                        NaN  \n",
              "1      Friday  chromewebstore.google.com  \n",
              "2      Friday            py-insights.com  \n",
              "3      Friday            py-insights.com  \n",
              "4      Friday            py-insights.com  "
            ],
            "text/html": [
              "\n",
              "  <div id=\"df-f122a0ad-b920-4079-a047-14e2a6875673\" class=\"colab-df-container\">\n",
              "    <div>\n",
              "<style scoped>\n",
              "    .dataframe tbody tr th:only-of-type {\n",
              "        vertical-align: middle;\n",
              "    }\n",
              "\n",
              "    .dataframe tbody tr th {\n",
              "        vertical-align: top;\n",
              "    }\n",
              "\n",
              "    .dataframe thead th {\n",
              "        text-align: right;\n",
              "    }\n",
              "</style>\n",
              "<table border=\"1\" class=\"dataframe\">\n",
              "  <thead>\n",
              "    <tr style=\"text-align: right;\">\n",
              "      <th></th>\n",
              "      <th>OrgId</th>\n",
              "      <th>ParticipantId</th>\n",
              "      <th>DeviceId</th>\n",
              "      <th>url</th>\n",
              "      <th>eventtimeutc</th>\n",
              "      <th>transition</th>\n",
              "      <th>title</th>\n",
              "      <th>visitId</th>\n",
              "      <th>referringVisitId</th>\n",
              "      <th>eventtime</th>\n",
              "      <th>date</th>\n",
              "      <th>hour</th>\n",
              "      <th>day_of_week</th>\n",
              "      <th>domain</th>\n",
              "    </tr>\n",
              "  </thead>\n",
              "  <tbody>\n",
              "    <tr>\n",
              "      <th>0</th>\n",
              "      <td>py_demo_client</td>\n",
              "      <td>demo</td>\n",
              "      <td>2nwjevbvxzm7ehb254</td>\n",
              "      <td>chrome-extension://hkmmnfimlpcphpgnmgdecpdpaef...</td>\n",
              "      <td>2025-02-21 07:58:02.688000+00:00</td>\n",
              "      <td>link</td>\n",
              "      <td>Unknown</td>\n",
              "      <td>166328</td>\n",
              "      <td>0</td>\n",
              "      <td>2025-02-20T23:58:02-08:00</td>\n",
              "      <td>2025-02-21</td>\n",
              "      <td>7</td>\n",
              "      <td>Friday</td>\n",
              "      <td>NaN</td>\n",
              "    </tr>\n",
              "    <tr>\n",
              "      <th>1</th>\n",
              "      <td>py_demo_client</td>\n",
              "      <td>demo</td>\n",
              "      <td>2nwjevbvxzm7ehb254</td>\n",
              "      <td>https://chromewebstore.google.com/detail/snaps...</td>\n",
              "      <td>2025-02-21 07:57:51.308000+00:00</td>\n",
              "      <td>link</td>\n",
              "      <td>Snapshot - Chrome Web Store</td>\n",
              "      <td>166327</td>\n",
              "      <td>166326</td>\n",
              "      <td>2025-02-20T23:57:51-08:00</td>\n",
              "      <td>2025-02-21</td>\n",
              "      <td>7</td>\n",
              "      <td>Friday</td>\n",
              "      <td>chromewebstore.google.com</td>\n",
              "    </tr>\n",
              "    <tr>\n",
              "      <th>2</th>\n",
              "      <td>py_demo_client</td>\n",
              "      <td>demo</td>\n",
              "      <td>2nwjevbvxzm7ehb254</td>\n",
              "      <td>https://py-insights.com/account/demo/product?s...</td>\n",
              "      <td>2025-02-21 07:57:40.972000+00:00</td>\n",
              "      <td>link</td>\n",
              "      <td>PY Insights | Product</td>\n",
              "      <td>166319</td>\n",
              "      <td>0</td>\n",
              "      <td>2025-02-20T23:57:40-08:00</td>\n",
              "      <td>2025-02-21</td>\n",
              "      <td>7</td>\n",
              "      <td>Friday</td>\n",
              "      <td>py-insights.com</td>\n",
              "    </tr>\n",
              "    <tr>\n",
              "      <th>3</th>\n",
              "      <td>py_demo_client</td>\n",
              "      <td>demo</td>\n",
              "      <td>2nwjevbvxzm7ehb254</td>\n",
              "      <td>https://py-insights.com/account/demo/product?s...</td>\n",
              "      <td>2025-02-21 07:57:40.988000+00:00</td>\n",
              "      <td>link</td>\n",
              "      <td>PY Insights | Product</td>\n",
              "      <td>166321</td>\n",
              "      <td>0</td>\n",
              "      <td>2025-02-20T23:57:40-08:00</td>\n",
              "      <td>2025-02-21</td>\n",
              "      <td>7</td>\n",
              "      <td>Friday</td>\n",
              "      <td>py-insights.com</td>\n",
              "    </tr>\n",
              "    <tr>\n",
              "      <th>4</th>\n",
              "      <td>py_demo_client</td>\n",
              "      <td>demo</td>\n",
              "      <td>2nwjevbvxzm7ehb254</td>\n",
              "      <td>https://py-insights.com/account/demo/product</td>\n",
              "      <td>2025-02-21 07:57:38.017000+00:00</td>\n",
              "      <td>link</td>\n",
              "      <td>PY Insights | Product</td>\n",
              "      <td>166318</td>\n",
              "      <td>0</td>\n",
              "      <td>2025-02-20T23:57:38-08:00</td>\n",
              "      <td>2025-02-21</td>\n",
              "      <td>7</td>\n",
              "      <td>Friday</td>\n",
              "      <td>py-insights.com</td>\n",
              "    </tr>\n",
              "  </tbody>\n",
              "</table>\n",
              "</div>\n",
              "    <div class=\"colab-df-buttons\">\n",
              "\n",
              "  <div class=\"colab-df-container\">\n",
              "    <button class=\"colab-df-convert\" onclick=\"convertToInteractive('df-f122a0ad-b920-4079-a047-14e2a6875673')\"\n",
              "            title=\"Convert this dataframe to an interactive table.\"\n",
              "            style=\"display:none;\">\n",
              "\n",
              "  <svg xmlns=\"http://www.w3.org/2000/svg\" height=\"24px\" viewBox=\"0 -960 960 960\">\n",
              "    <path d=\"M120-120v-720h720v720H120Zm60-500h600v-160H180v160Zm220 220h160v-160H400v160Zm0 220h160v-160H400v160ZM180-400h160v-160H180v160Zm440 0h160v-160H620v160ZM180-180h160v-160H180v160Zm440 0h160v-160H620v160Z\"/>\n",
              "  </svg>\n",
              "    </button>\n",
              "\n",
              "  <style>\n",
              "    .colab-df-container {\n",
              "      display:flex;\n",
              "      gap: 12px;\n",
              "    }\n",
              "\n",
              "    .colab-df-convert {\n",
              "      background-color: #E8F0FE;\n",
              "      border: none;\n",
              "      border-radius: 50%;\n",
              "      cursor: pointer;\n",
              "      display: none;\n",
              "      fill: #1967D2;\n",
              "      height: 32px;\n",
              "      padding: 0 0 0 0;\n",
              "      width: 32px;\n",
              "    }\n",
              "\n",
              "    .colab-df-convert:hover {\n",
              "      background-color: #E2EBFA;\n",
              "      box-shadow: 0px 1px 2px rgba(60, 64, 67, 0.3), 0px 1px 3px 1px rgba(60, 64, 67, 0.15);\n",
              "      fill: #174EA6;\n",
              "    }\n",
              "\n",
              "    .colab-df-buttons div {\n",
              "      margin-bottom: 4px;\n",
              "    }\n",
              "\n",
              "    [theme=dark] .colab-df-convert {\n",
              "      background-color: #3B4455;\n",
              "      fill: #D2E3FC;\n",
              "    }\n",
              "\n",
              "    [theme=dark] .colab-df-convert:hover {\n",
              "      background-color: #434B5C;\n",
              "      box-shadow: 0px 1px 3px 1px rgba(0, 0, 0, 0.15);\n",
              "      filter: drop-shadow(0px 1px 2px rgba(0, 0, 0, 0.3));\n",
              "      fill: #FFFFFF;\n",
              "    }\n",
              "  </style>\n",
              "\n",
              "    <script>\n",
              "      const buttonEl =\n",
              "        document.querySelector('#df-f122a0ad-b920-4079-a047-14e2a6875673 button.colab-df-convert');\n",
              "      buttonEl.style.display =\n",
              "        google.colab.kernel.accessAllowed ? 'block' : 'none';\n",
              "\n",
              "      async function convertToInteractive(key) {\n",
              "        const element = document.querySelector('#df-f122a0ad-b920-4079-a047-14e2a6875673');\n",
              "        const dataTable =\n",
              "          await google.colab.kernel.invokeFunction('convertToInteractive',\n",
              "                                                    [key], {});\n",
              "        if (!dataTable) return;\n",
              "\n",
              "        const docLinkHtml = 'Like what you see? Visit the ' +\n",
              "          '<a target=\"_blank\" href=https://colab.research.google.com/notebooks/data_table.ipynb>data table notebook</a>'\n",
              "          + ' to learn more about interactive tables.';\n",
              "        element.innerHTML = '';\n",
              "        dataTable['output_type'] = 'display_data';\n",
              "        await google.colab.output.renderOutput(dataTable, element);\n",
              "        const docLink = document.createElement('div');\n",
              "        docLink.innerHTML = docLinkHtml;\n",
              "        element.appendChild(docLink);\n",
              "      }\n",
              "    </script>\n",
              "  </div>\n",
              "\n",
              "\n",
              "<div id=\"df-070f0b50-6c41-4e2d-ace1-892846495c5c\">\n",
              "  <button class=\"colab-df-quickchart\" onclick=\"quickchart('df-070f0b50-6c41-4e2d-ace1-892846495c5c')\"\n",
              "            title=\"Suggest charts\"\n",
              "            style=\"display:none;\">\n",
              "\n",
              "<svg xmlns=\"http://www.w3.org/2000/svg\" height=\"24px\"viewBox=\"0 0 24 24\"\n",
              "     width=\"24px\">\n",
              "    <g>\n",
              "        <path d=\"M19 3H5c-1.1 0-2 .9-2 2v14c0 1.1.9 2 2 2h14c1.1 0 2-.9 2-2V5c0-1.1-.9-2-2-2zM9 17H7v-7h2v7zm4 0h-2V7h2v10zm4 0h-2v-4h2v4z\"/>\n",
              "    </g>\n",
              "</svg>\n",
              "  </button>\n",
              "\n",
              "<style>\n",
              "  .colab-df-quickchart {\n",
              "      --bg-color: #E8F0FE;\n",
              "      --fill-color: #1967D2;\n",
              "      --hover-bg-color: #E2EBFA;\n",
              "      --hover-fill-color: #174EA6;\n",
              "      --disabled-fill-color: #AAA;\n",
              "      --disabled-bg-color: #DDD;\n",
              "  }\n",
              "\n",
              "  [theme=dark] .colab-df-quickchart {\n",
              "      --bg-color: #3B4455;\n",
              "      --fill-color: #D2E3FC;\n",
              "      --hover-bg-color: #434B5C;\n",
              "      --hover-fill-color: #FFFFFF;\n",
              "      --disabled-bg-color: #3B4455;\n",
              "      --disabled-fill-color: #666;\n",
              "  }\n",
              "\n",
              "  .colab-df-quickchart {\n",
              "    background-color: var(--bg-color);\n",
              "    border: none;\n",
              "    border-radius: 50%;\n",
              "    cursor: pointer;\n",
              "    display: none;\n",
              "    fill: var(--fill-color);\n",
              "    height: 32px;\n",
              "    padding: 0;\n",
              "    width: 32px;\n",
              "  }\n",
              "\n",
              "  .colab-df-quickchart:hover {\n",
              "    background-color: var(--hover-bg-color);\n",
              "    box-shadow: 0 1px 2px rgba(60, 64, 67, 0.3), 0 1px 3px 1px rgba(60, 64, 67, 0.15);\n",
              "    fill: var(--button-hover-fill-color);\n",
              "  }\n",
              "\n",
              "  .colab-df-quickchart-complete:disabled,\n",
              "  .colab-df-quickchart-complete:disabled:hover {\n",
              "    background-color: var(--disabled-bg-color);\n",
              "    fill: var(--disabled-fill-color);\n",
              "    box-shadow: none;\n",
              "  }\n",
              "\n",
              "  .colab-df-spinner {\n",
              "    border: 2px solid var(--fill-color);\n",
              "    border-color: transparent;\n",
              "    border-bottom-color: var(--fill-color);\n",
              "    animation:\n",
              "      spin 1s steps(1) infinite;\n",
              "  }\n",
              "\n",
              "  @keyframes spin {\n",
              "    0% {\n",
              "      border-color: transparent;\n",
              "      border-bottom-color: var(--fill-color);\n",
              "      border-left-color: var(--fill-color);\n",
              "    }\n",
              "    20% {\n",
              "      border-color: transparent;\n",
              "      border-left-color: var(--fill-color);\n",
              "      border-top-color: var(--fill-color);\n",
              "    }\n",
              "    30% {\n",
              "      border-color: transparent;\n",
              "      border-left-color: var(--fill-color);\n",
              "      border-top-color: var(--fill-color);\n",
              "      border-right-color: var(--fill-color);\n",
              "    }\n",
              "    40% {\n",
              "      border-color: transparent;\n",
              "      border-right-color: var(--fill-color);\n",
              "      border-top-color: var(--fill-color);\n",
              "    }\n",
              "    60% {\n",
              "      border-color: transparent;\n",
              "      border-right-color: var(--fill-color);\n",
              "    }\n",
              "    80% {\n",
              "      border-color: transparent;\n",
              "      border-right-color: var(--fill-color);\n",
              "      border-bottom-color: var(--fill-color);\n",
              "    }\n",
              "    90% {\n",
              "      border-color: transparent;\n",
              "      border-bottom-color: var(--fill-color);\n",
              "    }\n",
              "  }\n",
              "</style>\n",
              "\n",
              "  <script>\n",
              "    async function quickchart(key) {\n",
              "      const quickchartButtonEl =\n",
              "        document.querySelector('#' + key + ' button');\n",
              "      quickchartButtonEl.disabled = true;  // To prevent multiple clicks.\n",
              "      quickchartButtonEl.classList.add('colab-df-spinner');\n",
              "      try {\n",
              "        const charts = await google.colab.kernel.invokeFunction(\n",
              "            'suggestCharts', [key], {});\n",
              "      } catch (error) {\n",
              "        console.error('Error during call to suggestCharts:', error);\n",
              "      }\n",
              "      quickchartButtonEl.classList.remove('colab-df-spinner');\n",
              "      quickchartButtonEl.classList.add('colab-df-quickchart-complete');\n",
              "    }\n",
              "    (() => {\n",
              "      let quickchartButtonEl =\n",
              "        document.querySelector('#df-070f0b50-6c41-4e2d-ace1-892846495c5c button');\n",
              "      quickchartButtonEl.style.display =\n",
              "        google.colab.kernel.accessAllowed ? 'block' : 'none';\n",
              "    })();\n",
              "  </script>\n",
              "</div>\n",
              "\n",
              "    </div>\n",
              "  </div>\n"
            ],
            "application/vnd.google.colaboratory.intrinsic+json": {
              "type": "dataframe",
              "variable_name": "df",
              "summary": "{\n  \"name\": \"df\",\n  \"rows\": 5104,\n  \"fields\": [\n    {\n      \"column\": \"OrgId\",\n      \"properties\": {\n        \"dtype\": \"category\",\n        \"num_unique_values\": 1,\n        \"samples\": [\n          \"py_demo_client\"\n        ],\n        \"semantic_type\": \"\",\n        \"description\": \"\"\n      }\n    },\n    {\n      \"column\": \"ParticipantId\",\n      \"properties\": {\n        \"dtype\": \"category\",\n        \"num_unique_values\": 1,\n        \"samples\": [\n          \"demo\"\n        ],\n        \"semantic_type\": \"\",\n        \"description\": \"\"\n      }\n    },\n    {\n      \"column\": \"DeviceId\",\n      \"properties\": {\n        \"dtype\": \"category\",\n        \"num_unique_values\": 1,\n        \"samples\": [\n          \"2nwjevbvxzm7ehb254\"\n        ],\n        \"semantic_type\": \"\",\n        \"description\": \"\"\n      }\n    },\n    {\n      \"column\": \"url\",\n      \"properties\": {\n        \"dtype\": \"string\",\n        \"num_unique_values\": 2779,\n        \"samples\": [\n          \"https://www.taskrabbit.com/dashboard/active?app_source_page=confirm_and_book&autoinvite=false&returning=false&app_target=tr_web\"\n        ],\n        \"semantic_type\": \"\",\n        \"description\": \"\"\n      }\n    },\n    {\n      \"column\": \"eventtimeutc\",\n      \"properties\": {\n        \"dtype\": \"date\",\n        \"min\": \"2025-01-21 11:00:35.229000+00:00\",\n        \"max\": \"2025-02-21 07:58:02.688000+00:00\",\n        \"num_unique_values\": 5055,\n        \"samples\": [\n          \"2025-01-29 05:14:29.526000+00:00\"\n        ],\n        \"semantic_type\": \"\",\n        \"description\": \"\"\n      }\n    },\n    {\n      \"column\": \"transition\",\n      \"properties\": {\n        \"dtype\": \"category\",\n        \"num_unique_values\": 8,\n        \"samples\": [\n          \"typed\"\n        ],\n        \"semantic_type\": \"\",\n        \"description\": \"\"\n      }\n    },\n    {\n      \"column\": \"title\",\n      \"properties\": {\n        \"dtype\": \"category\",\n        \"num_unique_values\": 1383,\n        \"samples\": [\n          \"Google announces \\u2018voluntary exit program\\u2019 for Pixel &#44;  Android team\"\n        ],\n        \"semantic_type\": \"\",\n        \"description\": \"\"\n      }\n    },\n    {\n      \"column\": \"visitId\",\n      \"properties\": {\n        \"dtype\": \"number\",\n        \"std\": 1742,\n        \"min\": 160209,\n        \"max\": 166328,\n        \"num_unique_values\": 5104,\n        \"samples\": [\n          161281\n        ],\n        \"semantic_type\": \"\",\n        \"description\": \"\"\n      }\n    },\n    {\n      \"column\": \"referringVisitId\",\n      \"properties\": {\n        \"dtype\": \"number\",\n        \"std\": 80736,\n        \"min\": 0,\n        \"max\": 166326,\n        \"num_unique_values\": 1587,\n        \"samples\": [\n          164781\n        ],\n        \"semantic_type\": \"\",\n        \"description\": \"\"\n      }\n    },\n    {\n      \"column\": \"eventtime\",\n      \"properties\": {\n        \"dtype\": \"object\",\n        \"num_unique_values\": 4253,\n        \"samples\": [\n          \"2025-02-20T11:14:10-08:00\"\n        ],\n        \"semantic_type\": \"\",\n        \"description\": \"\"\n      }\n    },\n    {\n      \"column\": \"date\",\n      \"properties\": {\n        \"dtype\": \"date\",\n        \"min\": \"2025-01-21\",\n        \"max\": \"2025-02-21\",\n        \"num_unique_values\": 32,\n        \"samples\": [\n          \"2025-02-13\"\n        ],\n        \"semantic_type\": \"\",\n        \"description\": \"\"\n      }\n    },\n    {\n      \"column\": \"hour\",\n      \"properties\": {\n        \"dtype\": \"int32\",\n        \"num_unique_values\": 24,\n        \"samples\": [\n          2\n        ],\n        \"semantic_type\": \"\",\n        \"description\": \"\"\n      }\n    },\n    {\n      \"column\": \"day_of_week\",\n      \"properties\": {\n        \"dtype\": \"category\",\n        \"num_unique_values\": 7,\n        \"samples\": [\n          \"Friday\"\n        ],\n        \"semantic_type\": \"\",\n        \"description\": \"\"\n      }\n    },\n    {\n      \"column\": \"domain\",\n      \"properties\": {\n        \"dtype\": \"category\",\n        \"num_unique_values\": 408,\n        \"samples\": [\n          \"go.xero.com\"\n        ],\n        \"semantic_type\": \"\",\n        \"description\": \"\"\n      }\n    }\n  ]\n}"
            }
          },
          "metadata": {},
          "execution_count": 40
        }
      ]
    },
    {
      "cell_type": "markdown",
      "source": [
        "**Key Metrics**\n",
        "\n",
        "1. URl\n",
        "2. Eventtimeutc\n",
        "3. Transistion\n",
        "4. Title"
      ],
      "metadata": {
        "id": "tz3fIjZbuA9y"
      }
    },
    {
      "cell_type": "code",
      "source": [
        "df['ParticipantId'].value_counts()"
      ],
      "metadata": {
        "colab": {
          "base_uri": "https://localhost:8080/",
          "height": 146
        },
        "id": "EScGCgS0qt17",
        "outputId": "0528dccf-c895-4a65-9152-0027a13dfda6"
      },
      "execution_count": 41,
      "outputs": [
        {
          "output_type": "execute_result",
          "data": {
            "text/plain": [
              "ParticipantId\n",
              "demo    5104\n",
              "Name: count, dtype: int64"
            ],
            "text/html": [
              "<div>\n",
              "<style scoped>\n",
              "    .dataframe tbody tr th:only-of-type {\n",
              "        vertical-align: middle;\n",
              "    }\n",
              "\n",
              "    .dataframe tbody tr th {\n",
              "        vertical-align: top;\n",
              "    }\n",
              "\n",
              "    .dataframe thead th {\n",
              "        text-align: right;\n",
              "    }\n",
              "</style>\n",
              "<table border=\"1\" class=\"dataframe\">\n",
              "  <thead>\n",
              "    <tr style=\"text-align: right;\">\n",
              "      <th></th>\n",
              "      <th>count</th>\n",
              "    </tr>\n",
              "    <tr>\n",
              "      <th>ParticipantId</th>\n",
              "      <th></th>\n",
              "    </tr>\n",
              "  </thead>\n",
              "  <tbody>\n",
              "    <tr>\n",
              "      <th>demo</th>\n",
              "      <td>5104</td>\n",
              "    </tr>\n",
              "  </tbody>\n",
              "</table>\n",
              "</div><br><label><b>dtype:</b> int64</label>"
            ]
          },
          "metadata": {},
          "execution_count": 41
        }
      ]
    },
    {
      "cell_type": "code",
      "source": [
        "df.domain.value_counts()"
      ],
      "metadata": {
        "colab": {
          "base_uri": "https://localhost:8080/",
          "height": 489
        },
        "id": "MB51gpOow18A",
        "outputId": "f9c1f8cc-beef-4a62-9153-3751fb5affbf"
      },
      "execution_count": 46,
      "outputs": [
        {
          "output_type": "execute_result",
          "data": {
            "text/plain": [
              "domain\n",
              "google.com                      1328\n",
              "upwork.com                       473\n",
              "mail.google.com                  149\n",
              "pyinsightscom.sharepoint.com     140\n",
              "loopnet.com                      133\n",
              "                                ... \n",
              "geediting.com                      1\n",
              "ticotimes.net                      1\n",
              "qksrv.net                          1\n",
              "macys.com                          1\n",
              "calstate.aaa.com                   1\n",
              "Name: count, Length: 408, dtype: int64"
            ],
            "text/html": [
              "<div>\n",
              "<style scoped>\n",
              "    .dataframe tbody tr th:only-of-type {\n",
              "        vertical-align: middle;\n",
              "    }\n",
              "\n",
              "    .dataframe tbody tr th {\n",
              "        vertical-align: top;\n",
              "    }\n",
              "\n",
              "    .dataframe thead th {\n",
              "        text-align: right;\n",
              "    }\n",
              "</style>\n",
              "<table border=\"1\" class=\"dataframe\">\n",
              "  <thead>\n",
              "    <tr style=\"text-align: right;\">\n",
              "      <th></th>\n",
              "      <th>count</th>\n",
              "    </tr>\n",
              "    <tr>\n",
              "      <th>domain</th>\n",
              "      <th></th>\n",
              "    </tr>\n",
              "  </thead>\n",
              "  <tbody>\n",
              "    <tr>\n",
              "      <th>google.com</th>\n",
              "      <td>1328</td>\n",
              "    </tr>\n",
              "    <tr>\n",
              "      <th>upwork.com</th>\n",
              "      <td>473</td>\n",
              "    </tr>\n",
              "    <tr>\n",
              "      <th>mail.google.com</th>\n",
              "      <td>149</td>\n",
              "    </tr>\n",
              "    <tr>\n",
              "      <th>pyinsightscom.sharepoint.com</th>\n",
              "      <td>140</td>\n",
              "    </tr>\n",
              "    <tr>\n",
              "      <th>loopnet.com</th>\n",
              "      <td>133</td>\n",
              "    </tr>\n",
              "    <tr>\n",
              "      <th>...</th>\n",
              "      <td>...</td>\n",
              "    </tr>\n",
              "    <tr>\n",
              "      <th>geediting.com</th>\n",
              "      <td>1</td>\n",
              "    </tr>\n",
              "    <tr>\n",
              "      <th>ticotimes.net</th>\n",
              "      <td>1</td>\n",
              "    </tr>\n",
              "    <tr>\n",
              "      <th>qksrv.net</th>\n",
              "      <td>1</td>\n",
              "    </tr>\n",
              "    <tr>\n",
              "      <th>macys.com</th>\n",
              "      <td>1</td>\n",
              "    </tr>\n",
              "    <tr>\n",
              "      <th>calstate.aaa.com</th>\n",
              "      <td>1</td>\n",
              "    </tr>\n",
              "  </tbody>\n",
              "</table>\n",
              "<p>408 rows × 1 columns</p>\n",
              "</div><br><label><b>dtype:</b> int64</label>"
            ]
          },
          "metadata": {},
          "execution_count": 46
        }
      ]
    },
    {
      "cell_type": "code",
      "source": [],
      "metadata": {
        "id": "NqIjXk1_63df"
      },
      "execution_count": null,
      "outputs": []
    },
    {
      "cell_type": "code",
      "source": [
        "websites=df['domain'].value_counts().to_dict()\n",
        "\n",
        "\n",
        "print(websites)"
      ],
      "metadata": {
        "colab": {
          "base_uri": "https://localhost:8080/"
        },
        "id": "yNOwz5h05otv",
        "outputId": "f653a8d9-6a3b-4401-d66c-264a73b26a98"
      },
      "execution_count": 81,
      "outputs": [
        {
          "output_type": "stream",
          "name": "stdout",
          "text": [
            "{'google.com': 1328, 'upwork.com': 473, 'mail.google.com': 149, 'pyinsightscom.sharepoint.com': 140, 'loopnet.com': 133, 'eu-west-1.console.aws.amazon.com': 128, 'amazon.in': 123, 'wellfound.com': 107, 'zipair.net': 106, 'facebook.com': 104, 'gitlab.com': 71, 'accounts.google.com': 61, 'go.xero.com': 60, 'taskrabbit.com': 59, 'pyinsightscom-my.sharepoint.com': 52, 'docs.google.com': 50, 'zillow.com': 43, 'play.google.com': 41, 'app.powerbi.com': 40, 'tractorsupply.com': 33, 'homedepot.com': 32, 'mavenclinic.com': 31, 'instagram.com': 30, 'timeanddate.com': 30, 'behav-my.sharepoint.com': 29, 'bizquest.com': 29, 'onedrive.live.com': 25, 'teams.microsoft.com': 25, 'login.microsoftonline.com': 23, 'linkedin.com': 22, 'airasia.com': 22, 'instacart.com': 20, 'drive.google.com': 20, 'reporting.xero.com': 19, 'app.pinecone.io': 18, 'htmltemplates.co': 17, 'amazon.com': 17, 'py-insights.com': 17, 'chrome.google.com': 17, 'app.onemedical.com': 17, 'app.clickup.com': 17, 'en.m.wikipedia.org': 17, 'flipkart.com': 17, 'idam-ui.company-information.service.gov.uk': 17, 'photos.google.com': 16, 'way.com': 16, 'cornerstone.csod.com': 16, 'reddit.com': 15, 'wise.com': 15, 'joinmosaic.myaccountinfo.com': 15, 'silmedspa.com': 14, 'cornerstoneondemand.okta.com': 14, 'us-east-1.console.aws.amazon.com': 14, 'bbc.com': 13, 'login.live.com': 13, 'iflyworld.com': 13, 'client.ipostalmail.net': 13, 'target.com': 13, 'quickpay.hmshost.com': 13, 'myfitnesspal.com': 12, 'costco.com': 12, 'signin.aws.amazon.com': 12, 'evite.com': 12, 'book.srilankan.com': 12, 'm.selectaware.com': 11, 'tuskr.live': 11, 'payment.airasia.com': 11, 'login.xero.com': 11, 'virginexperiencegifts.com': 11, 'trustpilot.com': 10, 'booking.iflyworld.com': 10, 'fiveslices.substack.com': 10, 'noredink.com': 10, 'secure.bankofamerica.com': 10, 'resume-builder-test-new.masaischool.com': 10, 'dashboard.branch.io': 10, 'cnn.com': 10, 'opentable.com': 10, 'x.com': 10, 'v0-shud-in-clone.vercel.app': 9, 'anc.apm.activecommunities.com': 9, 'amazon.co.uk': 9, 'mimaruhotels.com': 9, 'find-and-update.company-information.service.gov.uk': 9, 'oce.americanexpress.com': 9, 'myaccount.microsoft.com': 9, 'flights.flyfrontier.com': 9, 'acgov.org': 8, 'wayfair.com': 8, 'petco.com': 8, 'eu-west-1.signin.aws.amazon.com': 8, 'health.amazon.com': 8, 'us06web.zoom.us': 8, 'apps3.alameda.courts.ca.gov': 8, 'bizbuysell.com': 8, 'gozerog.com': 8, 'accounts.britishairways.com': 7, 'dairyqueen.com': 7, 'mermaidchart.com': 7, 'calendly.com': 7, 'montessoricompass.com': 7, 'notebooklm.google.com': 7, 'dropbox.com': 7, 'api.payu.in': 6, 'cs-rtl.my.salesforce-sites.com': 6, 'admin.microsoft.com': 6, 'taskrabbit.co.uk': 6, 'gateway.ipostalmail.net': 6, 'giftory.com': 6, 'py-test-dashboard.vercel.app': 6, 'capbase.com': 6, 'robinhoodcredit.zendesk.com': 6, 'my.1password.com': 6, 'global.americanexpress.com': 6, 'pinecone.io': 5, 'sellerx.com': 5, 'duolingo.com': 5, 'loribeds.com': 5, 'apkpure.net': 5, 'earth.com': 5, 'toytheater.com': 5, 'r.c-e.io': 5, 'srilankan.com': 5, 'ikea.com': 5, 'pitch59.com': 5, 'xe.com': 5, 'data.civicsync.com': 5, 'link-siliconvalley.com': 5, 'redfin.com': 5, 'mueller.viomedspa-specials.com': 5, 'kdp.amazon.com': 5, 'salefish.invisipon.com': 5, 'support.google.com': 5, 'india.com': 5, 'loom.com': 5, 'vaillant.co.uk': 5, 'michaels.com': 5, 'nessy.com': 5, 'siripanya.com': 5, 'luuxbags.com': 5, 'sfgate.com': 5, 'microsoft.com': 4, 'vividseats.com': 4, 'seats.aero': 4, 'istockphoto.com': 4, 'eonline.com': 4, 'login.microsoft.com': 4, 'fathom.video': 4, 'pages.gocatalant.com': 4, 'tradingeconomics.com': 4, 'app.qase.io': 4, 'letsnosh.io': 4, 'identity.company-information.service.gov.uk': 4, 'kdpreports.amazon.com': 4, 'ctsi-courtnetwork.org': 4, 'app.box.com': 4, 'addons.mozilla.org': 4, 'en.wikipedia.org': 4, 'cvs.com': 4, 'dribbleup.com': 4, 'itviec.com': 4, 'gov.uk': 3, 'meet.google.com': 3, 'dublinice.com': 3, 'fitbit.com': 3, 'asiamonitor.com.my': 3, 'booking.flyfrontier.com': 3, 's3.eu-west-1.amazonaws.com': 3, 'jdacademy.com': 3, 'skydiveperris.com': 3, 'ewf.companieshouse.gov.uk': 3, 'cornerstoneondemandinc.service-now.com': 3, 'markandgraham.com': 3, 'mybritishgashomeinstallation.co.uk': 3, 'booking.mimaruhotels.com': 3, 'console.firebase.google.com': 3, 'app.acquire.com': 3, 'm.yelp.com': 3, 'autorentals.com': 3, 'www-ndtv-com.cdn.ampproject.org': 3, 'commons.m.wikimedia.org': 3, 'sparctheater.org': 3, 'blueberrypediatrics.com': 3, 'sso.clubavolta.com': 3, 'plushcare.com': 3, 'avios.com': 3, 'assess.truste.com': 2, 'avianca.com': 2, 'login.pinecone.io': 2, 'behaviorally.com': 2, 'www-hindustantimes-com.cdn.ampproject.org': 2, 'youtube.com': 2, 'groupon.com': 2, 'stubhub.com': 2, 'app.pandadoc.com': 2, 'digitalspy.com': 2, 'bloomberg.com': 2, 'thestreet.com': 2, 'blog.duolingo.com': 2, 'dpaste.com': 2, 'parksfo.com': 2, 'rooms.aero': 2, 'catisoutoftheoffice.com': 2, 'connect.intuit.com': 2, 'justdial.com': 2, 'edition.cnn.com': 2, 'www-msnbc-com.cdn.ampproject.org': 2, 'www-13abc-com.cdn.ampproject.org': 2, 'timesofindia-indiatimes-com.cdn.ampproject.org': 2, 'finance.yahoo.com': 2, 'auth.mavenclinic.com': 2, 'help.netflix.com': 2, 'www-cnbc-com.cdn.ampproject.org': 2, 'maps.apple.com': 2, 'support.covenanteyes.com': 2, 'odoo.com': 2, 'zipcar.com': 2, 'my.zipcar.com': 2, 'kohls.com': 2, 'flooringinc.com': 2, 'naturallynidhi.com': 2, 'gbnews.com': 2, 'pyinsights.freshdesk.com': 2, 'flightaware.com': 2, 'namedrop.io': 2, 'paracletexp.com': 2, 'tuskr.app': 2, 'login.onemedical.com': 2, 'marthastewart.com': 2, 'access.service.gov.uk': 2, 'klook.com': 2, 'eatingwell.com': 2, 'rotimatic.com': 2, 'checkoutshopper-live.adyen.com': 2, 'plasticsurgery1.com': 2, 'timesofindia.indiatimes.com': 2, 'pipeline.zoominfo.com': 2, 'sfgoodwill.us13.list-manage.com': 2, 'pinterest.com': 2, 'americanexpress.com': 2, 'acvote.alamedacountyca.gov': 2, 'ij.manual.canon': 2, 'hola.com': 2, 'acquire.com': 2, 'joinvia.app': 2, 'hindustantimes.com': 2, 'nypost.com': 2, 'antimalwarehub.click': 2, 'buffer.com': 2, 'sec.windcave.com': 2, 'chefstore.com': 2, 'ubereats.com': 2, 'ted.com': 2, 'msn.com': 2, 'shud.in': 2, 'nbcbayarea.com': 2, 'chatgpt.com': 1, 'advertmobile.net': 1, 'ssa.gov': 1, 'thegraydetails.com': 1, 'timeless-hairstyles.com': 1, 'beyondmeat.com': 1, 'signin.costco.com': 1, 'samsclub.com': 1, 'easylunches.com': 1, 'qurb-ca-llc.odoo.com': 1, 'hrc.co.kr': 1, 'indeemo.com': 1, 'rocketable.com': 1, 'gregdeckerhair.com': 1, 'zucchinikill.com': 1, 'theculinistas.com': 1, 'theknot.com': 1, 'calmatters.org': 1, 'dataiku.com': 1, 'parade.com': 1, 'livemint.com': 1, 'alameda.courts.ca.gov': 1, 'the-shooting-star.com': 1, 'sacramentofurniturestore.co': 1, 'bizben.com': 1, 'myheartbeets.com': 1, 'fandomwire.com': 1, 'vivadayspa.com': 1, 'icloud.com': 1, 'ashleyfurniture.com': 1, 'masa.ai': 1, 'halloweencostumes.com': 1, 'costumepartyworld.com': 1, 'bankofamerica.com': 1, 'clutter.com': 1, 'discoveryplus.com': 1, 'playshifu.com': 1, 'greenmesg.org': 1, 'voronoiapp.com': 1, 'blinkist.com': 1, 'dev.to': 1, 'ukpostbox.com': 1, 'kyoto.travel': 1, 'm.youtube.com': 1, 'airzerog.com': 1, 'collinsaerospace.com': 1, 'johnmuirhealth.com': 1, 'hosp.ncgm.go.jp': 1, 'japanhealthinfo.com': 1, 'diane-japan.medium.com': 1, 'jurassicquest.com': 1, 'samsung.com': 1, 'blog.google': 1, 'leadxpro.com': 1, 'csod.enterprise.slack.com': 1, '9to5google.com': 1, 'adrenaline.com': 1, 'migflug.com': 1, 'incredible-adventures.com': 1, 'walmart.com': 1, 'coinbase.com': 1, 'fortune.com': 1, 'yahoo.com': 1, 'theguardian.com': 1, 'titan.fitness': 1, 'kron4.com': 1, 'eladelantado.com': 1, 'photos.app.goo.gl': 1, 'centrip-japan.com': 1, 'wsmi.org': 1, 'iphone-cases.org': 1, 'info.hands.net': 1, 'pymnts.com': 1, 'payments.freedompay.com': 1, 'sfchronicle.com': 1, 'aol.com': 1, 'nb.fidelity.com': 1, 'oneidentityapiproxy.americanexpress.com': 1, 'sf.eater.com': 1, 'milikacenterfortherapyandresilience.com': 1, 'politico.com': 1, 'fitbit.google.com': 1, 'mydelhi6.com': 1, 'stanfordchildrens.org': 1, 'cio.eletsonline.com': 1, 'npr.org': 1, 'android-studio.en.softonic.com': 1, 'marriott.com': 1, 'help.clerky.com': 1, '002d2501.pphosted.com:10020': 1, 'businessinsider.com': 1, 'firebase.google.com': 1, 'etsy.com': 1, 'people.com': 1, 'laist.com': 1, 'lp.zipair.net': 1, 'cornerstoneondemand.com': 1, 'amazingco.me': 1, 'peerspace.com': 1, 'your.cvs.com': 1, 'storyboard18.com': 1, 'howtogeek.com': 1, 'cases.gg': 1, 'secure.payu.in': 1, 'variety.com': 1, 'support.microsoft.com': 1, 'akusolireview.health-insight.net': 1, 'indy100.com': 1, 'nationalgeographic.com': 1, 'whsa.org': 1, 'calacademy.org': 1, 'rickhernsproductions.com': 1, 'support.chipolo.net': 1, 'harlemglobetrotters.com': 1, 'dailypassport.com': 1, 'remarkablecoating.com': 1, 'thespruceeats.com': 1, 'vmschool.org': 1, 'sunpalacevacationhomes.com': 1, 'blueprint.bryanjohnson.com': 1, 'american.bank': 1, 'clerky.com': 1, 'tik-tok.en.uptodown.com': 1, 'canva.com': 1, 'account.chase.com': 1, 'mercurynews.com': 1, 'tokyo-zoo.net': 1, 'stallsavers.com': 1, 'frequentmiler.com': 1, 'food.com': 1, 'sandboxvr.com': 1, 'network.actonacademy.org': 1, 'aaeb-trivice.paperform.co': 1, 'brit.co': 1, 'tribune.com.pk': 1, 'foxla.com': 1, 'upload.wikimedia.org': 1, 'priceline.com': 1, 'garagegymreviews.com': 1, 'chromewebstore.google.com': 1, 'eventbrite.com': 1, 'trustandwill.com': 1, 'nestpensions.org.uk': 1, 'lumibot.com': 1, 'accounts.zoho.com': 1, 'houseofbeautyindia.com': 1, 'makeaclaim.247homerescue.co.uk': 1, 'geediting.com': 1, 'ticotimes.net': 1, 'qksrv.net': 1, 'macys.com': 1, 'calstate.aaa.com': 1}\n"
          ]
        }
      ]
    },
    {
      "cell_type": "markdown",
      "source": [
        "##**Visualizations**##\n",
        "\n",
        "\n",
        "---\n",
        "\n",
        "1. Identify Top 10 websites visited and Visualize them\n",
        "2. Analyse Browsing Trends by Hour\n",
        "3. Analyse Browsing Trends by day of the week\n",
        "4. Identify Top 5 transistions\n",
        "5. Job search,Social Media and E-commerce website usage Analysis"
      ],
      "metadata": {
        "id": "mfpO3X11vd4L"
      }
    },
    {
      "cell_type": "code",
      "source": [
        "import matplotlib.pyplot as plt\n",
        "import seaborn as sns"
      ],
      "metadata": {
        "id": "kigsQkZMydm9"
      },
      "execution_count": 48,
      "outputs": []
    },
    {
      "cell_type": "code",
      "source": [
        "top_domains=df['domain'].value_counts().head(10)\n",
        "\n",
        "print(top_domains)"
      ],
      "metadata": {
        "colab": {
          "base_uri": "https://localhost:8080/",
          "height": 0
        },
        "id": "AaTWX71Nx5BQ",
        "outputId": "1224b938-d356-45e6-f319-cc29cfe9286f"
      },
      "execution_count": 47,
      "outputs": [
        {
          "output_type": "stream",
          "name": "stdout",
          "text": [
            "domain\n",
            "google.com                          1328\n",
            "upwork.com                           473\n",
            "mail.google.com                      149\n",
            "pyinsightscom.sharepoint.com         140\n",
            "loopnet.com                          133\n",
            "eu-west-1.console.aws.amazon.com     128\n",
            "amazon.in                            123\n",
            "wellfound.com                        107\n",
            "zipair.net                           106\n",
            "facebook.com                         104\n",
            "Name: count, dtype: int64\n"
          ]
        }
      ]
    },
    {
      "cell_type": "markdown",
      "source": [
        " ## **1. Visualizing Top 10 Websites**##"
      ],
      "metadata": {
        "id": "h54RHfas0HfI"
      }
    },
    {
      "cell_type": "code",
      "source": [
        "from pickle import NONE\n",
        "# Plot top 10 websited using bar graph\n",
        "\n",
        "plt.figure(figsize=(10,6))\n",
        "sns.barplot(x=top_domains.values,y=top_domains.index,hue=None,palette='plasma',legend=False)\n",
        "plt.title(\"Top 10 websites visited\")\n",
        "plt.xlabel(\"Domain\")\n",
        "plt.ylabel(\"Frequency\")\n",
        "plt.show()"
      ],
      "metadata": {
        "colab": {
          "base_uri": "https://localhost:8080/",
          "height": 560
        },
        "id": "E6tSrQISyXgh",
        "outputId": "7df566f8-69c6-440b-fead-aae7c8a9fdb8"
      },
      "execution_count": 72,
      "outputs": [
        {
          "output_type": "stream",
          "name": "stderr",
          "text": [
            "<ipython-input-72-585fc5f034d6>:5: FutureWarning: \n",
            "\n",
            "Passing `palette` without assigning `hue` is deprecated and will be removed in v0.14.0. Assign the `y` variable to `hue` and set `legend=False` for the same effect.\n",
            "\n",
            "  sns.barplot(x=top_domains.values,y=top_domains.index,hue=None,palette='plasma',legend=False)\n"
          ]
        },
        {
          "output_type": "display_data",
          "data": {
            "text/plain": [
              "<Figure size 1000x600 with 1 Axes>"
            ],
            "image/png": "[encoded data removed]"
          },
          "metadata": {}
        }
      ]
    },
    {
      "cell_type": "markdown",
      "source": [
        "## **2. Analyse Browsing Trends by Hour**"
      ],
      "metadata": {
        "id": "h90FpLMr0XWt"
      }
    },
    {
      "cell_type": "code",
      "source": [
        "# Analyze browsing activity by hour\n",
        "hourly_trends = df['hour'].value_counts().sort_index()\n",
        "\n",
        "# Plot hourly trends\n",
        "plt.figure(figsize=(12, 5))\n",
        "sns.lineplot(x=hourly_trends.index, y=hourly_trends.values, marker=\"o\", color=\"green\")\n",
        "plt.xlabel(\"Hour of the Day\")\n",
        "plt.ylabel(\"Number of Visits\")\n",
        "plt.title(\"Browsing Activity by Hour\")\n",
        "plt.xticks(range(0, 24))\n",
        "plt.grid(True)\n",
        "plt.show()\n"
      ],
      "metadata": {
        "colab": {
          "base_uri": "https://localhost:8080/",
          "height": 417
        },
        "id": "X9TB3V2NzLx2",
        "outputId": "16281431-e40a-490a-966c-b710c3829811"
      },
      "execution_count": 69,
      "outputs": [
        {
          "output_type": "display_data",
          "data": {
            "text/plain": [
              "<Figure size 1200x500 with 1 Axes>"
            ],
            "image/png": "[encoded data removed]"
          },
          "metadata": {}
        }
      ]
    },
    {
      "cell_type": "markdown",
      "source": [
        "##**3. Analyse Browsing Trends by day of the week**"
      ],
      "metadata": {
        "id": "J_MBsCNH1L9A"
      }
    },
    {
      "cell_type": "code",
      "source": [
        "# Analyze browsing activity by day of the week\n",
        "day_order = [\"Monday\", \"Tuesday\", \"Wednesday\", \"Thursday\", \"Friday\", \"Saturday\", \"Sunday\"]\n",
        "daily_trends = df['day_of_week'].value_counts().reindex(day_order)\n",
        "\n",
        "# Display results\n",
        "print(\"Browsing Activity by Day of the Week:\")\n",
        "print(daily_trends)\n",
        "\n",
        "# Plot daily trends\n",
        "plt.figure(figsize=(10, 5))\n",
        "sns.barplot(x=daily_trends.index, y=daily_trends.values,hue_order=None, palette=\"Spectral\",legend=False)\n",
        "plt.xlabel(\"Day of the Week\")\n",
        "plt.ylabel(\"Number of Visits\")\n",
        "plt.title(\"Browsing Activity by Day of the Week\")\n",
        "plt.show()\n"
      ],
      "metadata": {
        "colab": {
          "base_uri": "https://localhost:8080/",
          "height": 766
        },
        "id": "4jRfsCoc02y2",
        "outputId": "56eb812e-4afe-4ce3-a44e-031725c44066"
      },
      "execution_count": 74,
      "outputs": [
        {
          "output_type": "stream",
          "name": "stdout",
          "text": [
            "Browsing Activity by Day of the Week:\n",
            "day_of_week\n",
            "Monday        721\n",
            "Tuesday       624\n",
            "Wednesday    1509\n",
            "Thursday      852\n",
            "Friday        546\n",
            "Saturday      348\n",
            "Sunday        504\n",
            "Name: count, dtype: int64\n"
          ]
        },
        {
          "output_type": "stream",
          "name": "stderr",
          "text": [
            "<ipython-input-74-e07e34630a61>:11: FutureWarning: \n",
            "\n",
            "Passing `palette` without assigning `hue` is deprecated and will be removed in v0.14.0. Assign the `x` variable to `hue` and set `legend=False` for the same effect.\n",
            "\n",
            "  sns.barplot(x=daily_trends.index, y=daily_trends.values,hue_order=None, palette=\"Spectral\",legend=False)\n"
          ]
        },
        {
          "output_type": "display_data",
          "data": {
            "text/plain": [
              "<Figure size 1000x500 with 1 Axes>"
            ],
            "image/png": "[encoded data removed]"
          },
          "metadata": {}
        }
      ]
    },
    {
      "cell_type": "markdown",
      "source": [
        "##**4. Identify Top 5 transistions**"
      ],
      "metadata": {
        "id": "1HYGQWcr3YjL"
      }
    },
    {
      "cell_type": "code",
      "source": [
        "top_transitions = df['transition'].value_counts().head(5)\n",
        "\n",
        "print(top_transitions)"
      ],
      "metadata": {
        "colab": {
          "base_uri": "https://localhost:8080/"
        },
        "id": "3CmyWueB1qAV",
        "outputId": "fee1f778-a34d-439c-aae2-06319e077ff0"
      },
      "execution_count": 78,
      "outputs": [
        {
          "output_type": "stream",
          "name": "stdout",
          "text": [
            "transition\n",
            "link             4098\n",
            "reload            321\n",
            "generated         259\n",
            "form_submit       204\n",
            "auto_toplevel     113\n",
            "Name: count, dtype: int64\n"
          ]
        }
      ]
    },
    {
      "cell_type": "code",
      "source": [
        "#Plot Transitions\n",
        "\n",
        "plt.figure(figsize=(12,5))\n",
        "sns.barplot(x=top_transitions.values,y=top_transitions.index,hue=None,palette='bright',legend=False)\n",
        "plt.title('Top 5 Transitions',fontsize=15)\n",
        "plt.xlabel('Frequency',fontsize=12)\n",
        "plt.ylabel('Transition',fontsize=12)\n",
        "plt.show()"
      ],
      "metadata": {
        "colab": {
          "base_uri": "https://localhost:8080/",
          "height": 502
        },
        "id": "7PIuphqJ3xPr",
        "outputId": "7942dd86-d47c-4944-b42e-556eef8b8e5f"
      },
      "execution_count": 79,
      "outputs": [
        {
          "output_type": "stream",
          "name": "stderr",
          "text": [
            "<ipython-input-79-bf7b2df51a76>:4: FutureWarning: \n",
            "\n",
            "Passing `palette` without assigning `hue` is deprecated and will be removed in v0.14.0. Assign the `y` variable to `hue` and set `legend=False` for the same effect.\n",
            "\n",
            "  sns.barplot(x=top_transitions.values,y=top_transitions.index,hue=None,palette='bright',legend=False)\n"
          ]
        },
        {
          "output_type": "display_data",
          "data": {
            "text/plain": [
              "<Figure size 1200x500 with 1 Axes>"
            ],
            "image/png": "[encoded data removed]"
          },
          "metadata": {}
        }
      ]
    },
    {
      "cell_type": "markdown",
      "source": [
        "##**5. Job search and E-commerce website usage Analysis**"
      ],
      "metadata": {
        "id": "aIdvlIUe5App"
      }
    },
    {
      "cell_type": "code",
      "source": [
        "\n",
        "job_search_sites = [\"upwork.com\", \"wellfound.com\", \"linkedin.com\",'internshala.com',\"indeed.com\",\"naukri.com\",\"shine.com\",\"glassdoor.com\",\"microsoft.com\"]\n",
        "ecommerce_sites = [\"amazon.in\", \"flipkart.com\", \"ebay.com\",\"ajio.com\",\"lenskart.com\",\"mynthra.com\",\"amazon.in\",\"snapdeal.com\",\"etsy.com\"]\n",
        "social_media_sites = [\"facebook.com\", \"instagram.com\", \"twitter.com\", \"reddit.com\", \"linkedin.com\",\"youtube.com\",\"snapchat.com\",\"x.com\"]\n",
        "\n",
        "# Creating a new column categorizing each website\n",
        "df['category'] = df['domain'].apply(lambda x:\n",
        "    'Job Search' if x in job_search_sites else\n",
        "    'E-commerce' if x in ecommerce_sites else\n",
        "    'Social Media' if x in social_media_sites else 'Other'\n",
        ")\n",
        "\n",
        "# Count visits per category\n",
        "category_counts = df['category'].value_counts()\n",
        "\n",
        "# Display the dictionary format\n",
        "category_counts_dict = category_counts.to_dict()\n",
        "print(category_counts_dict)\n"
      ],
      "metadata": {
        "colab": {
          "base_uri": "https://localhost:8080/"
        },
        "id": "zwfSYPUj478h",
        "outputId": "0e20a335-6424-40e2-c73d-b407699f60bd"
      },
      "execution_count": 88,
      "outputs": [
        {
          "output_type": "stream",
          "name": "stdout",
          "text": [
            "{'Other': 4196, 'Job Search': 606, 'Social Media': 161, 'E-commerce': 141}\n"
          ]
        }
      ]
    },
    {
      "cell_type": "code",
      "source": [
        "#Plot the category compostion\n",
        "plt.figure(figsize=(8, 8))\n",
        "plt.pie(category_counts.values, labels=category_counts.index, autopct='%1.1f%%', colors=['blue', 'red', 'green', 'gray'], startangle=140)\n",
        "plt.title(\"Browsing Category Distribution\", fontsize=14)\n",
        "plt.show()\n"
      ],
      "metadata": {
        "colab": {
          "base_uri": "https://localhost:8080/",
          "height": 676
        },
        "id": "QdWbtt737aTL",
        "outputId": "16f3c55d-02aa-4bdb-b07c-4ec64e8b3065"
      },
      "execution_count": 89,
      "outputs": [
        {
          "output_type": "display_data",
          "data": {
            "text/plain": [
              "<Figure size 800x800 with 1 Axes>"
            ],
            "image/png": "[encoded data removed]"
          },
          "metadata": {}
        }
      ]
    },
    {
      "cell_type": "markdown",
      "source": [],
      "metadata": {
        "id": "ncWK4S0u97RJ"
      }
    }
  ]
}